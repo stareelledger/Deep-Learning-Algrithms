{
 "cells": [
  {
   "cell_type": "markdown",
   "metadata": {},
   "source": [
    "# Importing Important Libraries"
   ]
  },
  {
   "cell_type": "code",
   "execution_count": 1,
   "metadata": {},
   "outputs": [],
   "source": [
    "import numpy as np"
   ]
  },
  {
   "cell_type": "markdown",
   "metadata": {},
   "source": [
    "# Creating class for Deep neural network"
   ]
  },
  {
   "cell_type": "code",
   "execution_count": 2,
   "metadata": {},
   "outputs": [],
   "source": [
    "class DNN:\n",
    "    def __init__(self,li):\n",
    "        self.weights=list()\n",
    "        \n",
    "        self.layers=len(li)\n",
    "        for i in range(1,self.layers):\n",
    "            self.weights.append(np.random.random((li[i-1],li[i]))-0.5)\n",
    "            \n",
    "    def sigmoid(self,x):\n",
    "        return 1/(1+np.exp(-x))  \n",
    "    def dev_sigmoid(self,x):\n",
    "        return x*(1-x)\n",
    "    def feed_forward(self,x,i):\n",
    "        return self.sigmoid(np.dot(x,self.weights[i]))\n",
    "    def test_forward_propagation(self,x):\n",
    "        X={\"x0\":x}\n",
    "        for i in range(1,self.layers):\n",
    "            X[\"x\"+str(i)]=self.sigmoid(np.dot(X[\"x\"+str(i-1)],self.weights[i-1]))\n",
    "        return X[\"x\"+str(self.layers-1)]    \n",
    "    def train(self,x,y,iteration):\n",
    "        X={\"x0\":x}\n",
    "        for k in range(0,iteration):\n",
    "            for i in range(1,self.layers):\n",
    "                X[\"x\"+str(i)]=self.feed_forward(X[\"x\"+str(i-1)],i-1)\n",
    "            Z={\"z\"+str(self.layers-2):(X[\"x\"+str(self.layers-1)]-y.T)}\n",
    "            dW={\"dW\"+str(self.layers-2):np.dot(X[\"x\"+str(self.layers-2)].T,Z[\"z\"+str(self.layers-2)])}\n",
    "            layers_left=self.layers-2\n",
    "            for i in range(0,layers_left):\n",
    "                p=np.dot(self.weights[layers_left-i],Z[\"z\"+str(layers_left-i)].T)\n",
    "                q=self.dev_sigmoid(X[\"x\"+str(layers_left-i)])\n",
    "                Z[\"z\"+str(layers_left-1-i)]=p.T*q\n",
    "                dW[\"dW\"+str(layers_left-1-i)]=np.dot(X[\"x\"+str(layers_left-1-i)].T,Z[\"z\"+str(layers_left-1-i)])\n",
    "            \n",
    "            for i in range(0,self.layers-1):\n",
    "                self.weights[i]+=dW[\"dW\"+str(i)]\n",
    "            \n",
    "            \n",
    "\n",
    "    "
   ]
  },
  {
   "cell_type": "markdown",
   "metadata": {},
   "source": [
    "# Creating Object of Deep Neural Network by Initializing layers"
   ]
  },
  {
   "cell_type": "code",
   "execution_count": 12,
   "metadata": {},
   "outputs": [],
   "source": [
    "d=DNN([3,1])#Giving layers to train network on it"
   ]
  },
  {
   "cell_type": "code",
   "execution_count": 13,
   "metadata": {
    "scrolled": true
   },
   "outputs": [
    {
     "name": "stdout",
     "output_type": "stream",
     "text": [
      "[array([[-0.11209595],\n",
      "       [ 0.35196162],\n",
      "       [-0.23174733]])]\n"
     ]
    }
   ],
   "source": [
    "print(d.weights)# Random weights assigned"
   ]
  },
  {
   "cell_type": "markdown",
   "metadata": {},
   "source": [
    "# Training the network"
   ]
  },
  {
   "cell_type": "code",
   "execution_count": 14,
   "metadata": {},
   "outputs": [],
   "source": [
    "training_inputs = np.array([[0,0,0],[1,1,1],[1,0,1],[0,1,1]])\n",
    "training_outputs = np.array([[0,1,0,0]])\n",
    "d.train(training_inputs,training_outputs,2000)"
   ]
  },
  {
   "cell_type": "markdown",
   "metadata": {},
   "source": [
    "# Predicting the output by giving different input"
   ]
  },
  {
   "cell_type": "code",
   "execution_count": 15,
   "metadata": {},
   "outputs": [
    {
     "name": "stdout",
     "output_type": "stream",
     "text": [
      "Ending Weights After Training: \n",
      "[array([[1997.35163202],\n",
      "       [1998.23238747],\n",
      "       [3996.21041911]])]\n",
      "User Input One: 1\n",
      "User Input Two: 1\n",
      "User Input Three: 1\n",
      "New Output data: \n",
      "[1.]\n",
      "Wow, we did it!\n"
     ]
    }
   ],
   "source": [
    "print(\"Ending Weights After Training: \")\n",
    "print(d.weights)\n",
    "\n",
    "user_input_one = int(input(\"User Input One: \"))\n",
    "user_input_two = int(input(\"User Input Two: \"))\n",
    "user_input_three = int(input(\"User Input Three: \"))\n",
    "\n",
    "\n",
    "    \n",
    "\n",
    "\n",
    "print(\"New Output data: \")\n",
    "print(d.test_forward_propagation(np.array([user_input_one, user_input_two, user_input_three])))\n",
    "print(\"Wow, we did it!\")"
   ]
  }
 ],
 "metadata": {
  "kernelspec": {
   "display_name": "Python 3",
   "language": "python",
   "name": "python3"
  },
  "language_info": {
   "codemirror_mode": {
    "name": "ipython",
    "version": 3
   },
   "file_extension": ".py",
   "mimetype": "text/x-python",
   "name": "python",
   "nbconvert_exporter": "python",
   "pygments_lexer": "ipython3",
   "version": "3.7.6"
  }
 },
 "nbformat": 4,
 "nbformat_minor": 4
}
