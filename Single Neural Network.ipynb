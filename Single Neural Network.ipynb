{
 "cells": [
  {
   "cell_type": "markdown",
   "metadata": {},
   "source": [
    "# Single layered Neural Network"
   ]
  },
  {
   "cell_type": "code",
   "execution_count": 1,
   "metadata": {},
   "outputs": [],
   "source": [
    "import numpy as np"
   ]
  },
  {
   "cell_type": "markdown",
   "metadata": {},
   "source": [
    "# Neurak network class"
   ]
  },
  {
   "cell_type": "code",
   "execution_count": 11,
   "metadata": {},
   "outputs": [],
   "source": [
    "class simple_neural_network:\n",
    "\n",
    "    def __init__(self):\n",
    "        self.weight=np.random.random((3,1))-0.5 #random values between -1 and 1\n",
    "    def sigmoid(self,x):\n",
    "        return 1/(1+np.exp(-x))                 #activation function\n",
    "    def derivative_sigmoid(self,x):\n",
    "        return x*(1-x)                          #derivative of activation function\n",
    "    \n",
    "    def forward_propagation(self,t):            #forward propagation\n",
    "        return self.sigmoid(np.dot(t,self.weight))\n",
    "    \n",
    "    def training(self,input_train,output_train,iteration):      #Learning wieghts through back propagation\n",
    "        for i in range(0,iteration):\n",
    "            output_predicted=self.forward_propagation(input_train)\n",
    "            error=output_train.T-output_predicted\n",
    "            d_error=error*self.derivative_sigmoid(output_predicted)\n",
    "            \n",
    "            derivated_error=np.dot(input_train.T,d_error)\n",
    "            self.weight+=derivated_error\n",
    "        \n",
    "    "
   ]
  },
  {
   "cell_type": "markdown",
   "metadata": {},
   "source": [
    "# Using neural network class and Implementing learning to it"
   ]
  },
  {
   "cell_type": "code",
   "execution_count": 12,
   "metadata": {},
   "outputs": [
    {
     "name": "stdout",
     "output_type": "stream",
     "text": [
      "Beginning Randomly Generated Weights: \n",
      "[[-0.29554775]\n",
      " [ 0.37811744]\n",
      " [-0.47261241]]\n"
     ]
    }
   ],
   "source": [
    "neural_network = simple_neural_network()\n",
    "print(\"Beginning Randomly Generated Weights: \")\n",
    "print(neural_network.weight)\n",
    "#training data consisting of 4 examples--3 input values and 1 output\n",
    "training_inputs = np.array([[0,0,1],[1,1,1],[1,0,1],[0,1,1]])\n",
    "training_outputs = np.array([[0,1,1,0]])\n",
    "neural_network.training(training_inputs,training_outputs,20)"
   ]
  },
  {
   "cell_type": "markdown",
   "metadata": {},
   "source": [
    "# Training the neural network"
   ]
  },
  {
   "cell_type": "code",
   "execution_count": 16,
   "metadata": {},
   "outputs": [
    {
     "name": "stdout",
     "output_type": "stream",
     "text": [
      "Ending Weights After Training: \n",
      "[[ 2.45422655]\n",
      " [-0.0952692 ]\n",
      " [-1.04042095]]\n",
      "User Input One: 1\n",
      "User Input Two: 1\n",
      "User Input Three: 1\n",
      "Considering New Situation:  1 1 1\n",
      "New Output data: \n",
      "[0.7889381]\n",
      "Wow, we did it!\n"
     ]
    }
   ],
   "source": [
    "print(\"Ending Weights After Training: \")\n",
    "print(neural_network.weight)\n",
    "\n",
    "user_input_one = int(input(\"User Input One: \"))\n",
    "user_input_two = int(input(\"User Input Two: \"))\n",
    "user_input_three = int(input(\"User Input Three: \"))\n",
    "    \n",
    "print(\"Considering New Situation: \", user_input_one, user_input_two, user_input_three)\n",
    "print(\"New Output data: \")\n",
    "print(neural_network.forward_propagation(np.array([user_input_one, user_input_two, user_input_three])))\n",
    "print(\"Wow, we did it!\")"
   ]
  }
 ],
 "metadata": {
  "kernelspec": {
   "display_name": "Python 3",
   "language": "python",
   "name": "python3"
  },
  "language_info": {
   "codemirror_mode": {
    "name": "ipython",
    "version": 3
   },
   "file_extension": ".py",
   "mimetype": "text/x-python",
   "name": "python",
   "nbconvert_exporter": "python",
   "pygments_lexer": "ipython3",
   "version": "3.7.6"
  }
 },
 "nbformat": 4,
 "nbformat_minor": 4
}
